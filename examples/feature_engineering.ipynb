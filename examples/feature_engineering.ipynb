{
 "cells": [
  {
   "cell_type": "code",
   "execution_count": 8,
   "metadata": {},
   "outputs": [],
   "source": [
    "import time\n",
    "import pandas as pd\n",
    "import numpy as np\n",
    "from sklearn.model_selection import train_test_split\n",
    "from sklearn.preprocessing import LabelEncoder, StandardScaler, MinMaxScaler, OneHotEncoder\n",
    "from sklearn.metrics import accuracy_score, classification_report\n",
    "from rpart.DecisionTreeClassifier import DecisionTreeClassifier\n",
    "\n",
    "# Read the data\n",
    "raw = pd.read_csv('../data/adult.csv')"
   ]
  },
  {
   "cell_type": "code",
   "execution_count": 3,
   "metadata": {},
   "outputs": [],
   "source": [
    "def fix_categorical(data):\n",
    "\n",
    "    df = data.copy()\n",
    "\n",
    "    # Simplify workclass feature\n",
    "    df['workclass'] = df['workclass'].replace(['Never-worked', 'Without-pay'], 'Other')\n",
    "\n",
    "    # Simplify education feature\n",
    "    df['education'] = df['education'].replace(['Preschool', '1st-4th', '5th-6th'], 'Elementary-school')\n",
    "    df['education'] = df['education'].replace(['7th-8th', '9th', '10th', '11th', '12th'], 'High-school-no-diploma')\n",
    "    df['education'] = df['education'].replace(['Assoc-voc', 'Assoc-acdm'], 'Associates')\n",
    "    df['education'] = df['education'].replace(['Prof-school', 'Doctorate'], 'Post-graduate')\n",
    "\n",
    "    # Simplify occupation feature\n",
    "    df['occupation'] = df['occupation'].replace(['?'], 'Unknown')\n",
    "\n",
    "    # Simplify native.country feature by grouping countries into regions\n",
    "    regions = {\n",
    "        'North-America': ['United-States', 'Canada'],\n",
    "        'Latin-America': ['Mexico', 'South', 'Jamaica', 'El-Salvador', 'Cuba', 'Puerto-Rico', 'Dominican-Republic',\n",
    "                        'Trinadad&Tobago', 'Ecuador', 'Honduras', 'Haiti', 'Columbia', 'Peru', 'Guatemala'],\n",
    "        'Europe': ['Germany', 'Greece', 'England', 'Ireland', 'Poland', 'Laos', 'Italy', 'Hungary', 'Holand-Netherlands',\n",
    "                'Yugoslavia', 'Scotland', 'France'],\n",
    "        'Asia': ['Philippines', 'China', 'Vietnam', 'India', 'Japan', 'Iran', 'Cambodia', 'Taiwan', 'Hong', 'Thailand']\n",
    "    }\n",
    "\n",
    "    def assign_region(country):\n",
    "        for region, countries in regions.items():\n",
    "            if country in countries:\n",
    "                return region\n",
    "        return 'Unknown'\n",
    "\n",
    "    df['continent'] = df['native.country'].apply(assign_region)\n",
    "    \n",
    "    df.drop('native.country', axis=1, inplace=True)\n",
    "\n",
    "    return df\n",
    "\n",
    "def encode_data(data):\n",
    "\n",
    "    df = data.copy()\n",
    "\n",
    "    # List categorical and numerical columns\n",
    "    categorical_columns = ['workclass', 'education', 'marital.status', 'occupation', 'relationship','sex','race', 'continent']\n",
    "\n",
    "    # Apply one-hot encoding to categorical columns\n",
    "    df_encoded = pd.get_dummies(df, columns=categorical_columns, drop_first=True)\n",
    "\n",
    "    return df_encoded\n",
    "\n",
    "\n",
    "interim = fix_categorical(raw)\n",
    "processed = encode_data(interim)\n",
    "# Save processed data\n",
    "processed.to_csv('../data/adult30k_processed.csv', index=False)\n"
   ]
  }
 ],
 "metadata": {
  "kernelspec": {
   "display_name": "base",
   "language": "python",
   "name": "python3"
  },
  "language_info": {
   "codemirror_mode": {
    "name": "ipython",
    "version": 3
   },
   "file_extension": ".py",
   "mimetype": "text/x-python",
   "name": "python",
   "nbconvert_exporter": "python",
   "pygments_lexer": "ipython3",
   "version": "3.10.9"
  },
  "orig_nbformat": 4
 },
 "nbformat": 4,
 "nbformat_minor": 2
}
