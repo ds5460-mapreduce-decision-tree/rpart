{
 "cells": [
  {
   "cell_type": "code",
   "execution_count": 1,
   "metadata": {},
   "outputs": [],
   "source": [
    "from rpart.DecisionTreeClassifier import DecisionTreeClassifier\n",
    "import numpy as np\n",
    "import pandas as pd \n",
    "from collections import Counter\n",
    "\n",
    "class RandomForestClassifier:\n",
    "    def __init__(self, n_estimators=100, max_depth=None, metric='gini', split_method=None, chimerge_threshold=0.05, chimerge_max_intervals=None, max_features='sqrt', bootstrap=True, random_state=None):\n",
    "        self.n_estimators = n_estimators\n",
    "        self.max_depth = max_depth\n",
    "        self.metric = metric\n",
    "        self.split_method = split_method\n",
    "        self.chimerge_threshold = chimerge_threshold\n",
    "        self.chimerge_max_intervals = chimerge_max_intervals\n",
    "        self.max_features = max_features\n",
    "        self.bootstrap = bootstrap\n",
    "        self.random_state = random_state\n",
    "        self.trees = []\n",
    "\n",
    "    def _sample_features(self, X):\n",
    "        if self.max_features == 'sqrt':\n",
    "            n_features = int(np.sqrt(X.shape[1]))\n",
    "        elif self.max_features == 'log2':\n",
    "            n_features = int(np.log2(X.shape[1]))\n",
    "        elif isinstance(self.max_features, int):\n",
    "            n_features = self.max_features\n",
    "        else:\n",
    "            raise ValueError(\"Invalid max_features. Supported values are 'sqrt', 'log2', or an integer.\")\n",
    "        \n",
    "        return X.sample(n=n_features, axis=1)\n",
    "\n",
    "    def _bootstrap_sample(self, X, y):\n",
    "        n_samples = X.shape[0]\n",
    "        indices = np.random.choice(n_samples, size=n_samples, replace=True)\n",
    "        return X.iloc[indices], y.iloc[indices]\n",
    "\n",
    "    def fit(self, X, y):\n",
    "        if self.random_state is not None:\n",
    "            np.random.seed(self.random_state)\n",
    "\n",
    "        for _ in range(self.n_estimators):\n",
    "            tree = DecisionTreeClassifier(max_depth=self.max_depth, metric=self.metric, split_method=self.split_method, chimerge_threshold=self.chimerge_threshold, chimerge_max_intervals=self.chimerge_max_intervals)\n",
    "\n",
    "            if self.bootstrap:\n",
    "                X_sample, y_sample = self._bootstrap_sample(X, y)\n",
    "            else:\n",
    "                X_sample, y_sample = X.copy(), y.copy()\n",
    "\n",
    "            X_sample = self._sample_features(X_sample)\n",
    "            tree.fit(X_sample, y_sample)\n",
    "            self.trees.append(tree)\n",
    "\n",
    "    def predict(self, X):\n",
    "        if isinstance(X, np.ndarray):\n",
    "            X = pd.DataFrame(X)\n",
    "        predictions = np.empty((self.n_estimators, X.shape[0]), dtype=object)\n",
    "\n",
    "        for i, tree in enumerate(self.trees):\n",
    "            predictions[i] = tree.predict(X)\n",
    "\n",
    "        most_common = np.array([Counter(predictions[:, i]).most_common(1)[0][0] for i in range(X.shape[0])])\n",
    "        return most_common.astype(int) if np.issubdtype(most_common.dtype, np.number) else most_common\n",
    "\n",
    "    def predict_proba(self, X):\n",
    "        tree_preds = np.array([tree.predict(X) for tree in self.trees])\n",
    "        return np.apply_along_axis(lambda x: np.bincount(x) / x.size, axis=0, arr=tree_preds)"
   ]
  },
  {
   "cell_type": "code",
   "execution_count": 2,
   "metadata": {},
   "outputs": [],
   "source": [
    "from sklearn.model_selection import train_test_split\n",
    "import pandas as pd \n",
    "\n",
    "adult = pd.read_csv('data/adult.csv')\n",
    "X = adult.drop('income', axis=1)\n",
    "y = adult['income']\n",
    "X_train, X_test, y_train, y_test = train_test_split(X, y, test_size=0.3, random_state=42)"
   ]
  },
  {
   "cell_type": "code",
   "execution_count": 3,
   "metadata": {},
   "outputs": [],
   "source": [
    "# Create and train the DecisionTreeClassifier\n",
    "clf = RandomForestClassifier(n_estimators=50, max_depth=3, metric='gini')\n",
    "clf.fit(X_train, y_train)"
   ]
  },
  {
   "cell_type": "code",
   "execution_count": 4,
   "metadata": {},
   "outputs": [
    {
     "name": "stdout",
     "output_type": "stream",
     "text": [
      "Accuracy: 0.7633333333333333\n",
      "Classification Report:\n",
      "              precision    recall  f1-score   support\n",
      "\n",
      "       <=50K       0.76      1.00      0.86       227\n",
      "        >50K       1.00      0.03      0.05        73\n",
      "\n",
      "    accuracy                           0.76       300\n",
      "   macro avg       0.88      0.51      0.46       300\n",
      "weighted avg       0.82      0.76      0.67       300\n",
      "\n"
     ]
    }
   ],
   "source": [
    "from sklearn.metrics import accuracy_score, classification_report\n",
    "# Predict on the test set\n",
    "y_pred = clf.predict(X_test)\n",
    "\n",
    "# Evaluate the model\n",
    "accuracy = accuracy_score(y_test, y_pred)\n",
    "print(\"Accuracy:\", accuracy)\n",
    "print(\"Classification Report:\")\n",
    "print(classification_report(y_test, y_pred))"
   ]
  },
  {
   "cell_type": "code",
   "execution_count": null,
   "metadata": {},
   "outputs": [],
   "source": []
  }
 ],
 "metadata": {
  "kernelspec": {
   "display_name": "Python 3",
   "language": "python",
   "name": "python3"
  },
  "language_info": {
   "codemirror_mode": {
    "name": "ipython",
    "version": 3
   },
   "file_extension": ".py",
   "mimetype": "text/x-python",
   "name": "python",
   "nbconvert_exporter": "python",
   "pygments_lexer": "ipython3",
   "version": "3.10.10"
  },
  "orig_nbformat": 4
 },
 "nbformat": 4,
 "nbformat_minor": 2
}
