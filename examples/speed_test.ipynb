{
 "cells": [
  {
   "cell_type": "code",
   "execution_count": 1,
   "metadata": {},
   "outputs": [],
   "source": [
    "import time\n",
    "import pandas as pd\n",
    "import numpy as np\n",
    "from sklearn.model_selection import train_test_split\n",
    "from sklearn.preprocessing import LabelEncoder, StandardScaler, MinMaxScaler, OneHotEncoder\n",
    "from sklearn.metrics import accuracy_score, classification_report\n",
    "from rpart.DecisionTreeClassifier import DecisionTreeClassifier\n",
    "from rpart.RandomForestClassifier import RandomForestClassifier"
   ]
  },
  {
   "cell_type": "code",
   "execution_count": 2,
   "metadata": {},
   "outputs": [],
   "source": [
    "adult = pd.read_csv('../data/adult.csv')\n",
    "\n",
    "X = adult.drop('income', axis=1)\n",
    "y = adult['income']\n",
    "\n",
    "X_train, X_test, y_train, y_test = train_test_split(X, y, test_size=0.3, random_state=42)\n",
    "\n",
    "results = []"
   ]
  },
  {
   "cell_type": "code",
   "execution_count": 3,
   "metadata": {},
   "outputs": [
    {
     "name": "stdout",
     "output_type": "stream",
     "text": [
      "Decision Tree (Max Depth 5, Metrics Gini)\n",
      "Training time: 370.3860499858856\n",
      "Inference time: 0.5521750450134277\n",
      "Accuracy: 0.853618589415498\n",
      "\n",
      "Decision Tree (Max Depth 5, Metrics Entropy)\n",
      "Training time: 366.383585691452\n",
      "Inference time: 0.5480780601501465\n",
      "Accuracy: 0.8512642030914116\n",
      "\n"
     ]
    }
   ],
   "source": [
    "## Models\n",
    "models = [\n",
    "    {'name': 'Decision Tree (Max Depth 5, Metrics Gini)', 'model': DecisionTreeClassifier(max_depth=5, metric='gini')},\n",
    "    {'name': 'Decision Tree (Max Depth 5, Metrics Entropy)', 'model': DecisionTreeClassifier(max_depth=5, metric='entropy')},\n",
    "    \n",
    "]\n",
    "\n",
    "for model in models:\n",
    "    # Print the model name\n",
    "    print(model['name'])\n",
    "    # Create and train the model\n",
    "    clf = model['model']\n",
    "    start_time = time.time()\n",
    "    clf.fit(X_train, y_train)\n",
    "    training_time = time.time() - start_time\n",
    "\n",
    "    # Predict on the test set\n",
    "    start_time = time.time()\n",
    "    y_pred = clf.predict(X_test)\n",
    "    inference_time = time.time() - start_time\n",
    "\n",
    "    # Evaluate the model\n",
    "    accuracy = accuracy_score(y_test, y_pred)\n",
    "    report = classification_report(y_test, y_pred)\n",
    "\n",
    "    # Append results to the list\n",
    "    results.append([model['name'], training_time, inference_time, accuracy, report])\n",
    "    # print the results\n",
    "    print(f'Training time: {training_time}')\n",
    "    print(f'Inference time: {inference_time}')\n",
    "    print(f'Accuracy: {accuracy}')\n",
    "    print()\n"
   ]
  },
  {
   "cell_type": "code",
   "execution_count": null,
   "metadata": {},
   "outputs": [],
   "source": [
    "# Create dataframe from the results list\n",
    "df_results = pd.DataFrame(results, columns=['Model Name', 'Training Time', 'Inference Time', 'Accuracy', 'Classification Report'])"
   ]
  },
  {
   "cell_type": "code",
   "execution_count": null,
   "metadata": {},
   "outputs": [],
   "source": [
    "df_results"
   ]
  },
  {
   "cell_type": "code",
   "execution_count": null,
   "metadata": {},
   "outputs": [],
   "source": [
    "df_results.to_csv('../data/results.csv', index=False)"
   ]
  },
  {
   "cell_type": "code",
   "execution_count": null,
   "metadata": {},
   "outputs": [],
   "source": [
    "\n",
    "## RTree Models\n",
    "\n",
    "models = [\n",
    "    {'name': 'Random Forest (N Estimators 150, Max Depth 5, Metrics Gini)', 'model': RandomForestClassifier(n_estimators=150, max_depth=5, metric='gini')},\n",
    "    {'name': 'Random Forest (N Estimators 150, Max Depth 5, Metrics Entropy)', 'model': RandomForestClassifier(n_estimators=150, max_depth=5, metric='entropy')}\n",
    "]\n",
    "\n",
    "for model in models:\n",
    "    # Print the model name\n",
    "    print(model['name'])\n",
    "    # Create and train the model\n",
    "    clf = model['model']\n",
    "    start_time = time.time()\n",
    "    clf.fit(X_train, y_train)\n",
    "    training_time = time.time() - start_time\n",
    "\n",
    "    # Predict on the test set\n",
    "    start_time = time.time()\n",
    "    y_pred = clf.predict(X_test)\n",
    "    inference_time = time.time() - start_time\n",
    "\n",
    "    # Evaluate the model\n",
    "    accuracy = accuracy_score(y_test, y_pred)\n",
    "    report = classification_report(y_test, y_pred)\n",
    "\n",
    "    # Append results to the list\n",
    "    results.append([model['name'], training_time, inference_time, accuracy, report])\n",
    "    # print the results\n",
    "    print(f'Training time: {training_time}')\n",
    "    print(f'Inference time: {inference_time}')\n",
    "    print(f'Accuracy: {accuracy}')\n",
    "    print()\n"
   ]
  },
  {
   "cell_type": "code",
   "execution_count": null,
   "metadata": {},
   "outputs": [],
   "source": []
  }
 ],
 "metadata": {
  "kernelspec": {
   "display_name": "base",
   "language": "python",
   "name": "python3"
  },
  "language_info": {
   "codemirror_mode": {
    "name": "ipython",
    "version": 3
   },
   "file_extension": ".py",
   "mimetype": "text/x-python",
   "name": "python",
   "nbconvert_exporter": "python",
   "pygments_lexer": "ipython3",
   "version": "3.10.9"
  },
  "orig_nbformat": 4
 },
 "nbformat": 4,
 "nbformat_minor": 2
}
